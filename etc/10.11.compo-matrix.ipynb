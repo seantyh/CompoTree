{
 "cells": [
  {
   "cell_type": "code",
   "execution_count": 1,
   "metadata": {},
   "outputs": [],
   "source": [
    "%load_ext autoreload\n",
    "%autoreload 2"
   ]
  },
  {
   "cell_type": "code",
   "execution_count": 2,
   "metadata": {},
   "outputs": [],
   "source": [
    "import sys\n",
    "sys.path.append(\"../src\")"
   ]
  },
  {
   "cell_type": "code",
   "execution_count": 68,
   "metadata": {},
   "outputs": [],
   "source": [
    "from CompoTree import ComponentTree, Radicals, TSVariants, CharLexicon, CTFounds\n",
    "from gensim.models.keyedvectors import KeyedVectors\n",
    "import numpy as np\n",
    "import numpy.linalg as la"
   ]
  },
  {
   "cell_type": "code",
   "execution_count": 4,
   "metadata": {},
   "outputs": [],
   "source": [
    "\n",
    "kv = KeyedVectors.load(\"../data/fasttext-zh-sw/fasttext-zh-sw.kv\")\n",
    "kv.init_sims()"
   ]
  },
  {
   "cell_type": "code",
   "execution_count": 5,
   "metadata": {},
   "outputs": [],
   "source": [
    "ctree = ComponentTree.load()\n",
    "radicals = Radicals.load()\n",
    "tsvars = TSVariants.load()\n",
    "lexicon = CharLexicon.load()\n"
   ]
  },
  {
   "cell_type": "code",
   "execution_count": 6,
   "metadata": {},
   "outputs": [
    {
     "data": {
      "text/plain": [
       "[['氵'], [<⿰:[<⿱:['廿'][<⿻:['口'][<⿻:[<⿱:['一']['一']>]['人']>]>]>]['隹'](GTKV)>]]"
      ]
     },
     "execution_count": 6,
     "metadata": {},
     "output_type": "execute_result"
    }
   ],
   "source": [
    "ctree.query(\"灘\", use_flag=\"first\")[0].children"
   ]
  },
  {
   "cell_type": "code",
   "execution_count": 7,
   "metadata": {},
   "outputs": [
    {
     "name": "stdout",
     "output_type": "stream",
     "text": [
      "筠\n"
     ]
    }
   ],
   "source": [
    "for w in lexicon:\n",
    "    print(w)\n",
    "    break"
   ]
  },
  {
   "cell_type": "code",
   "execution_count": 8,
   "metadata": {},
   "outputs": [],
   "source": [
    "from collections import defaultdict\n",
    "chars_set = set()\n",
    "compo_set = set()\n",
    "decompo_set = set()\n",
    "compo_items = set()\n",
    "for word in lexicon:  \n",
    "    if word not in kv.vocab:\n",
    "        continue\n",
    "        \n",
    "    try:\n",
    "        ortho_x = ctree.query(word, \n",
    "                          max_depth=1, \n",
    "                          use_flag=\"shortest\")[0]\n",
    "    except:\n",
    "        print(word)\n",
    "        continue\n",
    "            \n",
    "    if isinstance(ortho_x, str):\n",
    "        compos = [ortho_x]\n",
    "    else:\n",
    "        compos = [str(x) for x in \n",
    "                  ortho_x.components(use_flag=\"shortest\")]\n",
    "        \n",
    "    compo_seq = tuple(sorted(compos))     \n",
    "    if compo_seq not in compo_items and len(compos) == 2:\n",
    "        compo_items.add(compo_seq)\n",
    "    else:        \n",
    "        continue\n",
    "    \n",
    "    chars_set.add(word)    \n",
    "    if tsvars.is_simplified(word):\n",
    "        compos = [x+\"_s\" for x in compos]\n",
    "    else:\n",
    "        compos = [x+\"_t\" for x in compos]\n",
    "       \n",
    "    compo_set |= set(compos)\n",
    "    decompo_set |= set((word, str(compo_x))\n",
    "                       for compo_x in compos)    "
   ]
  },
  {
   "cell_type": "code",
   "execution_count": 9,
   "metadata": {},
   "outputs": [
    {
     "data": {
      "text/plain": [
       "(6156, 2498, 12292)"
      ]
     },
     "execution_count": 9,
     "metadata": {},
     "output_type": "execute_result"
    }
   ],
   "source": [
    "len(chars_set), len(compo_set), len(decompo_set)"
   ]
  },
  {
   "cell_type": "markdown",
   "metadata": {},
   "source": [
    "## Component semantic matrix\n",
    "\n",
    "### An underlying assumption: Character meanings are *linearly combinations* of their composing components' semantics\n",
    "$$\n",
    "C_{k\\times d}: \\textrm{Component semantic matrix, k components $\\times$ d vector size }\\\\\n",
    "Z_{n\\times d}: \\textrm{Character semantic matrix, n characters $\\times$ d vector size }\\\\\n",
    "D_{n\\times k}: \\textrm{Decomposition matrix, n characters $\\times$ k components}\\\\\n",
    "Z = D\\cdot C\\\\\n",
    "C = (D^\\top D)^{-1}D^\\top Z\n",
    "$$\n",
    "\n",
    "## Limitations\n",
    "* The semantic vectors of single character words in FastText are less stable\n",
    "* The components in the matrix (so far) is not position-awared."
   ]
  },
  {
   "cell_type": "markdown",
   "metadata": {},
   "source": [
    "## Component Matrix"
   ]
  },
  {
   "cell_type": "code",
   "execution_count": 11,
   "metadata": {},
   "outputs": [],
   "source": [
    "import numpy as np\n",
    "from sklearn.preprocessing import LabelEncoder"
   ]
  },
  {
   "cell_type": "code",
   "execution_count": 12,
   "metadata": {},
   "outputs": [
    {
     "data": {
      "text/plain": [
       "LabelEncoder()"
      ]
     },
     "execution_count": 12,
     "metadata": {},
     "output_type": "execute_result"
    }
   ],
   "source": [
    "char_enc = LabelEncoder()\n",
    "compo_enc = LabelEncoder()\n",
    "char_enc.fit(list(chars_set))\n",
    "compo_enc.fit(list(compo_set))"
   ]
  },
  {
   "cell_type": "code",
   "execution_count": 13,
   "metadata": {},
   "outputs": [],
   "source": [
    "n_char = len(char_enc.classes_)\n",
    "n_compo = len(compo_enc.classes_)"
   ]
  },
  {
   "cell_type": "code",
   "execution_count": 14,
   "metadata": {},
   "outputs": [
    {
     "data": {
      "text/plain": [
       "(6156, 2498)"
      ]
     },
     "execution_count": 14,
     "metadata": {},
     "output_type": "execute_result"
    }
   ],
   "source": [
    "decompo_matrix = np.zeros((n_char, n_compo), dtype=np.int32)\n",
    "decompo_matrix.shape"
   ]
  },
  {
   "cell_type": "code",
   "execution_count": 15,
   "metadata": {},
   "outputs": [],
   "source": [
    "for item_x in decompo_set:\n",
    "    char_idx = char_enc.transform([item_x[0]])[0]\n",
    "    compo_idx = compo_enc.transform([item_x[1]])[0]\n",
    "    decompo_matrix[char_idx, compo_idx] = 1"
   ]
  },
  {
   "cell_type": "code",
   "execution_count": 16,
   "metadata": {},
   "outputs": [
    {
     "data": {
      "text/plain": [
       "LabelEncoder()"
      ]
     },
     "execution_count": 16,
     "metadata": {},
     "output_type": "execute_result"
    }
   ],
   "source": [
    "aa = LabelEncoder()\n",
    "aa.fit([\"a\", \"b\", \"c\"])"
   ]
  },
  {
   "cell_type": "code",
   "execution_count": 17,
   "metadata": {},
   "outputs": [
    {
     "name": "stdout",
     "output_type": "stream",
     "text": [
      "(6156, 1407)\n"
     ]
    },
    {
     "data": {
      "text/plain": [
       "1407"
      ]
     },
     "execution_count": 17,
     "metadata": {},
     "output_type": "execute_result"
    }
   ],
   "source": [
    "sel_compo_idx = decompo_matrix.sum(axis=0)>1\n",
    "sel_compo_enc = LabelEncoder()\n",
    "sel_compo_enc.fit(compo_enc.classes_[sel_compo_idx])\n",
    "decompo_matrix_reduced = decompo_matrix[:, sel_compo_idx]\n",
    "print(decompo_matrix_reduced.shape)\n",
    "la.matrix_rank(decompo_matrix_reduced)"
   ]
  },
  {
   "cell_type": "code",
   "execution_count": 18,
   "metadata": {},
   "outputs": [
    {
     "data": {
      "text/plain": [
       "(6156, 300)"
      ]
     },
     "execution_count": 18,
     "metadata": {},
     "output_type": "execute_result"
    }
   ],
   "source": [
    "## Character semantic vector\n",
    "word_kv_idxs = []\n",
    "for word in char_enc.classes_:\n",
    "    word_kv_idxs.append(kv.vocab[word].index)\n",
    "char_ft = kv.vectors_norm[word_kv_idxs, :]\n",
    "char_ft.shape"
   ]
  },
  {
   "cell_type": "code",
   "execution_count": 19,
   "metadata": {},
   "outputs": [
    {
     "name": "stdout",
     "output_type": "stream",
     "text": [
      "D, Z:  (6156, 1407) (6156, 300)\n"
     ]
    }
   ],
   "source": [
    "import numpy as np\n",
    "import numpy.linalg as la\n",
    "\n",
    "D = decompo_matrix_reduced\n",
    "Z = char_ft\n",
    "print(\"D, Z: \", D.shape, Z.shape)\n",
    "compo_ft = la.inv(D.T.dot(D)).dot(D.T).dot(Z)"
   ]
  },
  {
   "cell_type": "code",
   "execution_count": 20,
   "metadata": {},
   "outputs": [],
   "source": [
    "Zhat = D.dot(compo_ft)\n",
    "R = Z.dot(Zhat.T)"
   ]
  },
  {
   "cell_type": "code",
   "execution_count": 21,
   "metadata": {},
   "outputs": [],
   "source": [
    "def query_component(compo, is_trad=True):\n",
    "    if is_trad is not None:\n",
    "        compo = compo + (\"_t\" if is_trad else \"_s\")\n",
    "    compo_vec = compo_ft[sel_compo_enc.transform([compo])[0]]\n",
    "    return compo_vec"
   ]
  },
  {
   "cell_type": "code",
   "execution_count": 110,
   "metadata": {},
   "outputs": [],
   "source": [
    "from tabulate import tabulate\n",
    "from itertools import chain\n",
    "def list_compo_neighbors(compo_t, compo_s):\n",
    "    trads = kv.similar_by_vector(query_component(compo_t, is_trad=True))\n",
    "    simps = kv.similar_by_vector(query_component(compo_s, is_trad=False))\n",
    "    trad_neighbors = CTFounds(ctree.find(compo_t, max_depth=1))\\\n",
    "                        .traditional_only()\\\n",
    "                        .filter_with_lexicon(lexicon).tolist()\n",
    "    simp_neighbors = CTFounds(ctree.find(compo_s, max_depth=1))\\\n",
    "                        .simplified_only()\\\n",
    "                        .filter_with_lexicon(lexicon).tolist()\n",
    "    print(f\"Trad neighbors({len(trad_neighbors)}): \", \n",
    "           \",\".join([x[0] for x in trad_neighbors][:10]))\n",
    "    print(f\"Simp neighbors({len(simp_neighbors)}): \", \n",
    "           \",\".join([x[0] for x in simp_neighbors][:10]))\n",
    "    \n",
    "    if trads and simps:\n",
    "        print(tabulate((\n",
    "                list(chain(t, s))\n",
    "                for t, s \n",
    "                in zip(trads, simps)), \n",
    "                headers=[\"Trad\", \"sim\", \"Simp\", \"sim\"]))\n",
    "    elif trads:\n",
    "        print(tabulate(trads, headers=[\"Trad\", \"sim\"]))\n",
    "    elif simps:\n",
    "        print(tabulate(simps, headers=[\"Simp\", \"sim\"]))\n",
    "    else:\n",
    "        print(\"trads and simps are both missing\")\n",
    "    return    \n",
    "\n"
   ]
  },
  {
   "cell_type": "markdown",
   "metadata": {},
   "source": [
    "## Orthographical neighbors and semantic space neighbors"
   ]
  },
  {
   "cell_type": "code",
   "execution_count": 111,
   "metadata": {},
   "outputs": [
    {
     "name": "stdout",
     "output_type": "stream",
     "text": [
      "Trad neighbors(107):  好,娥,始,嬸,嫉,娶,妄,妺,妻,姣\n",
      "Simp neighbors(16):  妇,娇,婶,娄,奸,娴,妩,嬷,娱,婵\n",
      "Trad         sim  Simp         sim\n",
      "------  --------  ------  --------\n",
      "妹      0.98588   婶      0.985482\n",
      "媚      0.985726  嬷      0.983757\n",
      "妻      0.985599  敫      0.982878\n",
      "姊      0.984483  嫫      0.982786\n",
      "逅      0.983553  鐏      0.981498\n",
      "嫂      0.98324   姘      0.981453\n",
      "婷      0.983083  祃      0.981376\n",
      "綺      0.982885  齹      0.980913\n",
      "竟      0.982851  婵      0.980891\n",
      "玔      0.982789  娆      0.980836\n"
     ]
    }
   ],
   "source": [
    "list_compo_neighbors(\"女\", \"女\")"
   ]
  },
  {
   "cell_type": "code",
   "execution_count": 112,
   "metadata": {},
   "outputs": [
    {
     "name": "stdout",
     "output_type": "stream",
     "text": [
      "Trad neighbors(186):  菠,蘸,蕤,薰,蔣,芎,菊,蒜,萍,蘇\n",
      "Simp neighbors(39):  萧,荟,苏,萨,葱,莲,薮,荫,荣,藓\n",
      "Trad         sim  Simp         sim\n",
      "------  --------  ------  --------\n",
      "玉      0.985763  荣      0.986638\n",
      "柏      0.98392   贤      0.985357\n",
      "秋      0.983803  陈      0.985349\n",
      "乃      0.983442  许      0.985107\n",
      "竟      0.983216  云      0.985003\n",
      "如      0.983167  寿      0.984808\n",
      "遂      0.983139  黄      0.984578\n",
      "芳      0.983045  鸿      0.984416\n",
      "露      0.982954  吴      0.984327\n",
      "亦      0.982551  则      0.984007\n"
     ]
    }
   ],
   "source": [
    "list_compo_neighbors(\"艹\", \"艹\") "
   ]
  },
  {
   "cell_type": "code",
   "execution_count": 113,
   "metadata": {},
   "outputs": [
    {
     "name": "stdout",
     "output_type": "stream",
     "text": [
      "Trad neighbors(54):  購,貽,賀,賃,買,費,員,資,貫,寶\n",
      "Simp neighbors(3):  买,头,实\n",
      "Trad         sim  Simp         sim\n",
      "------  --------  ------  --------\n",
      "卻      0.985784  买      0.990016\n",
      "還      0.984368  实      0.982377\n",
      "雖      0.984065  卖      0.976\n",
      "當      0.983598  购      0.97066\n",
      "願      0.983596  当      0.969497\n",
      "則      0.983449  却      0.969027\n",
      "買      0.983167  还      0.968702\n",
      "貴      0.983115  则      0.968679\n",
      "說      0.983106  刚      0.968421\n",
      "爲      0.983011  给      0.968415\n"
     ]
    }
   ],
   "source": [
    "list_compo_neighbors(\"貝\", \"头\")"
   ]
  },
  {
   "cell_type": "code",
   "execution_count": 71,
   "metadata": {},
   "outputs": [
    {
     "data": {
      "text/plain": [
       "[('钩', [⿰1钩]), ('构', [⿰1构]), ('沟', [⿰1沟]), ('购', [⿰1购])]"
      ]
     },
     "execution_count": 71,
     "metadata": {},
     "output_type": "execute_result"
    }
   ],
   "source": [
    "CTFounds(ctree.find(\"勾\", max_depth=1)).simplified_only().tolist()"
   ]
  },
  {
   "cell_type": "code",
   "execution_count": 87,
   "metadata": {},
   "outputs": [
    {
     "data": {
      "text/plain": [
       "['学']"
      ]
     },
     "execution_count": 87,
     "metadata": {},
     "output_type": "execute_result"
    }
   ],
   "source": [
    "tsvars.convert(\"學\")"
   ]
  },
  {
   "cell_type": "code",
   "execution_count": 89,
   "metadata": {},
   "outputs": [
    {
     "data": {
      "text/plain": [
       "[<⿳:['𭕄']['冖']['子']>]"
      ]
     },
     "execution_count": 89,
     "metadata": {},
     "output_type": "execute_result"
    }
   ],
   "source": [
    "ctree.query(\"学\", max_depth=1)"
   ]
  },
  {
   "cell_type": "code",
   "execution_count": 114,
   "metadata": {},
   "outputs": [
    {
     "name": "stdout",
     "output_type": "stream",
     "text": [
      "Trad neighbors(15):  取,反,受,支,雙,馭,叟,叉,叡,叔\n",
      "Simp neighbors(19):  鸡,叹,对,凤,汉,圣,驭,难,观,变\n",
      "Trad         sim  Simp         sim\n",
      "------  --------  ------  --------\n",
      "而      0.984034  却      0.987573\n",
      "即      0.983707  虽      0.986946\n",
      "亦      0.983202  则      0.986583\n",
      "取      0.982846  对      0.985842\n",
      "如      0.982046  说      0.985663\n",
      "也      0.982001  当      0.985573\n",
      "之      0.981641  与      0.984682\n",
      "便      0.981625  贤      0.984341\n",
      "以      0.981548  还      0.984294\n",
      "和      0.981331  许      0.98427\n"
     ]
    }
   ],
   "source": [
    "list_compo_neighbors(\"又\", \"又\")"
   ]
  },
  {
   "cell_type": "code",
   "execution_count": 115,
   "metadata": {},
   "outputs": [
    {
     "name": "stdout",
     "output_type": "stream",
     "text": [
      "Trad neighbors(6):  譏,磯,璣,嘰,機,饑\n",
      "Simp neighbors(12):  凭,凤,饥,几,讥,叽,风,矶,秃,玑\n",
      "Trad         sim  Simp         sim\n",
      "------  --------  ------  --------\n",
      "轢      0.968187  凤      0.981599\n",
      "澠      0.965689  云      0.974678\n",
      "肈      0.965199  窜      0.973051\n",
      "慱      0.964905  鸣      0.973001\n",
      "睎      0.964685  虽      0.972802\n",
      "瀜      0.96439   风      0.97261\n",
      "憊      0.964198  头      0.972396\n",
      "蕚      0.963757  鹤      0.972001\n",
      "刼      0.96367   说      0.971916\n",
      "穚      0.963555  飞      0.971903\n"
     ]
    }
   ],
   "source": [
    "list_compo_neighbors(\"幾\", \"几\")"
   ]
  },
  {
   "cell_type": "code",
   "execution_count": 90,
   "metadata": {},
   "outputs": [
    {
     "name": "stdout",
     "output_type": "stream",
     "text": [
      "rois count:  4\n",
      "['又_s', '又_t', '几_s', '几_t']\n",
      "rois count:  44\n"
     ]
    }
   ],
   "source": [
    "simp_radicals = [x+\"_s\" for x in radicals.ts_radicals.keys()]\n",
    "trad_radicals = [x+\"_t\" for x in radicals.ts_radicals.values()]\n",
    "targets = [(\"又_s\", \"又_t\"), (\"几_s\", \"几_t\")]\n",
    "\n",
    "rois = []\n",
    "for s, t in targets:\n",
    "    if s in sel_compo_enc.classes_ and \\\n",
    "       t in sel_compo_enc.classes_:\n",
    "        rois += [s, t]\n",
    "print(\"rois count: \", len(rois))\n",
    "print(rois)\n",
    "for srad, trad in zip(simp_radicals, trad_radicals):\n",
    "    if srad in sel_compo_enc.classes_ and \\\n",
    "       trad in sel_compo_enc.classes_:\n",
    "        rois += [srad, trad]\n",
    "print(\"rois count: \", len(rois))"
   ]
  },
  {
   "cell_type": "code",
   "execution_count": 91,
   "metadata": {},
   "outputs": [],
   "source": [
    "roi_vectors = np.zeros((len(rois), compo_ft.shape[1]), dtype=np.float)\n",
    "for roi_idx, roi_x in enumerate(rois):\n",
    "    roi_vectors[roi_idx] = query_component(roi_x, is_trad=None)"
   ]
  },
  {
   "cell_type": "code",
   "execution_count": 92,
   "metadata": {},
   "outputs": [
    {
     "data": {
      "text/plain": [
       "(44, 300)"
      ]
     },
     "execution_count": 92,
     "metadata": {},
     "output_type": "execute_result"
    }
   ],
   "source": [
    "roi_vectors.shape"
   ]
  },
  {
   "cell_type": "code",
   "execution_count": 93,
   "metadata": {},
   "outputs": [],
   "source": [
    "from sklearn.decomposition import PCA\n",
    "roi_pca = PCA(3)\n",
    "roi_2d = roi_pca.fit_transform(roi_vectors)"
   ]
  },
  {
   "cell_type": "code",
   "execution_count": 94,
   "metadata": {},
   "outputs": [],
   "source": [
    "from matplotlib import font_manager"
   ]
  },
  {
   "cell_type": "code",
   "execution_count": 95,
   "metadata": {},
   "outputs": [
    {
     "data": {
      "text/plain": [
       "<matplotlib.legend.Legend at 0x7fe6acd76450>"
      ]
     },
     "execution_count": 95,
     "metadata": {},
     "output_type": "execute_result"
    },
    {
     "data": {
      "image/png": "[encoded data removed]",
      "text/plain": [
       "<Figure size 864x432 with 1 Axes>"
      ]
     },
     "metadata": {
      "needs_background": "light"
     },
     "output_type": "display_data"
    }
   ],
   "source": [
    "import matplotlib.pyplot as plt\n",
    "plt.rcParams[\"font.family\"] = \"HanaMinA\" \n",
    "plt.figure(figsize=(12,6))\n",
    "idx_iter = iter(range(len(rois)))\n",
    "dim_x = 0\n",
    "dim_y = 2\n",
    "for s_idx, t_idx in zip(*([idx_iter]*2)):\n",
    "    s_compo = rois[s_idx].split(\"_\")[0]\n",
    "    t_compo = rois[t_idx].split(\"_\")[0]\n",
    "    \n",
    "    text_args = dict(fontsize=14)\n",
    "    if (rois[s_idx], rois[t_idx]) in targets:\n",
    "        text_args[\"fontsize\"]=20\n",
    "    \n",
    "    plt.text(roi_2d[s_idx, dim_x], roi_2d[s_idx, dim_y], \n",
    "             s_compo, color=\"red\", **text_args)\n",
    "    plt.text(roi_2d[t_idx, dim_x], roi_2d[t_idx, dim_y], \n",
    "             t_compo, color=\"blue\", **text_args)\n",
    "    plt.plot(roi_2d[[s_idx, t_idx], dim_x], roi_2d[[s_idx, t_idx], dim_y], color='#AAAAAA')\n",
    "coord_max = roi_2d.max(axis=0)+0.1\n",
    "coord_min = roi_2d.min(axis=0)-0.1\n",
    "plt.xlim(coord_min[dim_x], coord_max[dim_x])\n",
    "plt.ylim(coord_min[dim_y], coord_max[dim_y])\n",
    "plt.xlabel(f\"PCA-{dim_x}\")\n",
    "plt.ylabel(f\"PCA-{dim_y}\")\n",
    "from matplotlib.patches import Patch\n",
    "h_legends = [Patch(facecolor=\"red\", label=\"simplified\"),\n",
    "             Patch(facecolor=\"blue\", label=\"traditional\")]\n",
    "plt.legend(handles=h_legends, loc=\"upper right\")"
   ]
  },
  {
   "cell_type": "code",
   "execution_count": 38,
   "metadata": {},
   "outputs": [
    {
     "data": {
      "text/plain": [
       "[<⿰:['金']['美']>]"
      ]
     },
     "execution_count": 38,
     "metadata": {},
     "output_type": "execute_result"
    }
   ],
   "source": [
    "ctree.query(\"鎂\", max_depth=1)"
   ]
  },
  {
   "cell_type": "code",
   "execution_count": 48,
   "metadata": {},
   "outputs": [
    {
     "name": "stdout",
     "output_type": "stream",
     "text": [
      "|(慮): ⿸\n",
      "..|(虍): ⿸\n",
      "....|(--): ⿱\n",
      "......| ⺊\n",
      "......| ②\n",
      "....| 七\n",
      "..|(思): ⿱\n",
      "....| 田\n",
      "....| 心\n"
     ]
    }
   ],
   "source": [
    "ctree.find(\"心\")"
   ]
  },
  {
   "cell_type": "code",
   "execution_count": null,
   "metadata": {},
   "outputs": [],
   "source": []
  }
 ],
 "metadata": {
  "kernelspec": {
   "display_name": "Python 3",
   "language": "python",
   "name": "python3"
  },
  "language_info": {
   "codemirror_mode": {
    "name": "ipython",
    "version": 3
   },
   "file_extension": ".py",
   "mimetype": "text/x-python",
   "name": "python",
   "nbconvert_exporter": "python",
   "pygments_lexer": "ipython3",
   "version": "3.7.4"
  }
 },
 "nbformat": 4,
 "nbformat_minor": 4
}
