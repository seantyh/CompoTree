{
 "cells": [
  {
   "cell_type": "code",
   "execution_count": 1,
   "id": "demographic-evidence",
   "metadata": {},
   "outputs": [],
   "source": [
    "%load_ext autoreload\n",
    "%autoreload 2"
   ]
  },
  {
   "cell_type": "code",
   "execution_count": 2,
   "id": "crucial-insured",
   "metadata": {},
   "outputs": [],
   "source": [
    "import sys\n",
    "sys.path.append(\"../src\")"
   ]
  },
  {
   "cell_type": "code",
   "execution_count": 3,
   "id": "juvenile-highway",
   "metadata": {},
   "outputs": [],
   "source": [
    "from CompoTree import ComponentTree, Radicals, TSVariants, CharLexicon, CTFounds\n",
    "from gensim.models.keyedvectors import KeyedVectors\n",
    "import igraph as ig"
   ]
  },
  {
   "cell_type": "code",
   "execution_count": 4,
   "id": "rolled-insulation",
   "metadata": {},
   "outputs": [],
   "source": [
    "ctree = ComponentTree.load()\n",
    "radicals = Radicals.load()\n",
    "tsvars = TSVariants.load()\n",
    "lexicon = CharLexicon.load()"
   ]
  },
  {
   "cell_type": "code",
   "execution_count": 5,
   "id": "choice-disaster",
   "metadata": {},
   "outputs": [],
   "source": [
    "trad_chars = [x for x in lexicon if not tsvars.is_simplified(x)]"
   ]
  },
  {
   "cell_type": "code",
   "execution_count": 32,
   "id": "thrown-voice",
   "metadata": {},
   "outputs": [],
   "source": [
    "char_pools = [x for x in trad_chars if \n",
    "              x != tsvars.convert(x)[0]]\n",
    "# char_pools = [tsvars.convert(x)[0] for x in char_pools]\n"
   ]
  },
  {
   "cell_type": "code",
   "execution_count": 33,
   "id": "rocky-category",
   "metadata": {},
   "outputs": [],
   "source": [
    "char_decomp = []\n",
    "for x in set(char_pools):\n",
    "    try:\n",
    "        decomp_x = (x, ctree.query(x, max_depth=1, use_flag=\"shortest\")[0])\n",
    "        char_decomp.append(decomp_x)\n",
    "    except:\n",
    "        pass\n",
    "\n",
    "char_decomp = [x for x in char_decomp if not isinstance(x[1], str) and (len(x[1].components())==2)]\n"
   ]
  },
  {
   "cell_type": "code",
   "execution_count": 34,
   "id": "hidden-gossip",
   "metadata": {},
   "outputs": [
    {
     "name": "stdout",
     "output_type": "stream",
     "text": [
      "duplicated decompositions:  暈 ⿱['日']['軍']\n"
     ]
    }
   ],
   "source": [
    "compo_dict = {}\n",
    "edge_dict = {}\n",
    "for char_x, decomp_x in char_decomp:\n",
    "    compos = decomp_x.components()\n",
    "    compo_dict[compos[0]] = compo_dict.get(compos[0], len(compo_dict))\n",
    "    compo_dict[compos[1]] = compo_dict.get(compos[1], len(compo_dict))\n",
    "    \n",
    "    # edges\n",
    "    eid = (compo_dict[compos[0]], compo_dict[compos[1]])\n",
    "    if eid in edge_dict:\n",
    "        print(\"duplicated decompositions: \", char_x, decomp_x)\n",
    "    edge_dict[eid] = edge_dict.get(eid, len(edge_dict))"
   ]
  },
  {
   "cell_type": "code",
   "execution_count": 35,
   "id": "thorough-samba",
   "metadata": {},
   "outputs": [
    {
     "data": {
      "text/plain": [
       "(1673, 1624, 1005, 1623)"
      ]
     },
     "execution_count": 35,
     "metadata": {},
     "output_type": "execute_result"
    }
   ],
   "source": [
    "len(char_pools), len(char_decomp), len(compo_dict), len(edge_dict)"
   ]
  },
  {
   "cell_type": "code",
   "execution_count": 38,
   "id": "seven-advertising",
   "metadata": {},
   "outputs": [
    {
     "data": {
      "text/plain": [
       "['銅', '屆', '貶', '區', '諳', '毆', '圇', '變', '懨', '諫']"
      ]
     },
     "execution_count": 38,
     "metadata": {},
     "output_type": "execute_result"
    }
   ],
   "source": [
    "# 字表\n",
    "char_pools[:10]"
   ]
  },
  {
   "cell_type": "code",
   "execution_count": 10,
   "id": "competitive-samuel",
   "metadata": {},
   "outputs": [],
   "source": [
    "G = ig.Graph()\n",
    "for compo_x, compo_id in compo_dict.items():\n",
    "    G.add_vertex(compo_id, compo=compo_x)\n",
    "for edge_x, edge_id in edge_dict.items():\n",
    "    src, tgt = edge_x\n",
    "    G.add_edge(src, tgt)"
   ]
  },
  {
   "cell_type": "code",
   "execution_count": 11,
   "id": "northern-motel",
   "metadata": {},
   "outputs": [
    {
     "data": {
      "text/plain": [
       "[('口', '无'),\n",
       " ('禾', '只'),\n",
       " ('扌', '参'),\n",
       " (<⿰:丬夕>, '酉'),\n",
       " ('巾', '贞'),\n",
       " ('讠', '隹'),\n",
       " ('马', '各'),\n",
       " ('二', '山'),\n",
       " ('冫', '中'),\n",
       " ('庚', '贝')]"
      ]
     },
     "execution_count": 11,
     "metadata": {},
     "output_type": "execute_result"
    }
   ],
   "source": [
    "compo_rev = {v: k for k, v in compo_dict.items()}\n",
    "[(compo_rev[x.source], compo_rev[x.target]) for x in G.es[:10]]"
   ]
  },
  {
   "cell_type": "code",
   "execution_count": 12,
   "id": "hollow-minutes",
   "metadata": {},
   "outputs": [
    {
     "data": {
      "text/plain": [
       "'IGRAPH UN-- 812 1572 -- \\n+ attr: compo (v), name (v)'"
      ]
     },
     "execution_count": 12,
     "metadata": {},
     "output_type": "execute_result"
    }
   ],
   "source": [
    "G.summary()"
   ]
  },
  {
   "cell_type": "code",
   "execution_count": 13,
   "id": "satisfactory-affiliate",
   "metadata": {},
   "outputs": [
    {
     "data": {
      "text/plain": [
       "[782, 2, 2, 2, 2, 2, 2, 2, 3, 3, 2, 2, 2, 2, 2]"
      ]
     },
     "execution_count": 13,
     "metadata": {},
     "output_type": "execute_result"
    }
   ],
   "source": [
    "[len(x) for x in G.components()]"
   ]
  },
  {
   "cell_type": "code",
   "execution_count": 14,
   "id": "moral-oracle",
   "metadata": {},
   "outputs": [],
   "source": [
    "from graphviz import Graph"
   ]
  },
  {
   "cell_type": "code",
   "execution_count": 30,
   "id": "institutional-former",
   "metadata": {},
   "outputs": [],
   "source": [
    "vG = Graph(comment=\"Component Graph\", format=\"svg\", engine='sfdp')\n",
    "vG.attr(K=\"3\")\n",
    "vG.attr(\"edge\", color=\"#AAAAAA33\")\n",
    "vG.attr(\"node\", shape='point')\n",
    "# G.attr('node', fontname=\"HanaMinA\")\n",
    "\n",
    "for compo_x, compo_id in compo_dict.items():\n",
    "    # vG.node(str(compo_id), str(compo_x))\n",
    "    vG.node(str(compo_id), fillcolor='blue')\n",
    "vG.edges([(str(src), str(tgt)) for src, tgt in edge_dict.keys()])"
   ]
  },
  {
   "cell_type": "code",
   "execution_count": 31,
   "id": "cleared-closer",
   "metadata": {},
   "outputs": [
    {
     "data": {
      "text/plain": [
       "'Graph.simp.gv.svg.svg'"
      ]
     },
     "execution_count": 31,
     "metadata": {},
     "output_type": "execute_result"
    }
   ],
   "source": [
    "vG.render(\"Graph.simp.gv.svg\", view=True)"
   ]
  },
  {
   "cell_type": "code",
   "execution_count": null,
   "id": "floral-remark",
   "metadata": {},
   "outputs": [],
   "source": []
  }
 ],
 "metadata": {
  "kernelspec": {
   "display_name": "Python 3",
   "language": "python",
   "name": "python3"
  },
  "language_info": {
   "codemirror_mode": {
    "name": "ipython",
    "version": 3
   },
   "file_extension": ".py",
   "mimetype": "text/x-python",
   "name": "python",
   "nbconvert_exporter": "python",
   "pygments_lexer": "ipython3",
   "version": "3.8.2"
  }
 },
 "nbformat": 4,
 "nbformat_minor": 5
}
