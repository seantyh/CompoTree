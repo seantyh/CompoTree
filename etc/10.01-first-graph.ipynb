{
 "cells": [
  {
   "cell_type": "code",
   "execution_count": 1,
   "metadata": {},
   "outputs": [],
   "source": [
    "%load_ext autoreload\n",
    "%autoreload 2"
   ]
  },
  {
   "cell_type": "code",
   "execution_count": 2,
   "metadata": {},
   "outputs": [],
   "source": [
    "import sys\n",
    "sys.path.append(\"../src\")"
   ]
  },
  {
   "cell_type": "code",
   "execution_count": 3,
   "metadata": {},
   "outputs": [],
   "source": [
    "from CompoTree import ComponentTree, Radicals, TSVariants, StructureCursor, IDC\n",
    "from CompoTree import OrthoNode"
   ]
  },
  {
   "cell_type": "code",
   "execution_count": 4,
   "metadata": {},
   "outputs": [],
   "source": [
    "ctree = ComponentTree.load()\n",
    "radicals = Radicals.load()\n",
    "tsvars = TSVariants.load()"
   ]
  },
  {
   "cell_type": "code",
   "execution_count": 5,
   "metadata": {},
   "outputs": [
    {
     "data": {
      "text/plain": [
       "('姦', [⿱0姦])"
      ]
     },
     "execution_count": 5,
     "metadata": {},
     "output_type": "execute_result"
    }
   ],
   "source": [
    "hit_x = ctree.find(\"女\", bmp_only=True)[2]\n",
    "hit_x"
   ]
  },
  {
   "cell_type": "code",
   "execution_count": 6,
   "metadata": {},
   "outputs": [
    {
     "data": {
      "text/plain": [
       "'女'"
      ]
     },
     "execution_count": 6,
     "metadata": {},
     "output_type": "execute_result"
    }
   ],
   "source": [
    "ctree.select(hit_x[0], hit_x[1])"
   ]
  },
  {
   "cell_type": "code",
   "execution_count": 7,
   "metadata": {},
   "outputs": [],
   "source": [
    "yo_hits = ctree.find(\"又\", max_depth=1, bmp_only=True)"
   ]
  },
  {
   "cell_type": "code",
   "execution_count": 8,
   "metadata": {},
   "outputs": [],
   "source": [
    "yo_hits_simp = [x for x in yo_hits if tsvars.is_simplified(x[0])]"
   ]
  },
  {
   "cell_type": "code",
   "execution_count": 9,
   "metadata": {},
   "outputs": [
    {
     "name": "stdout",
     "output_type": "stream",
     "text": [
      "IDC does not match 雙 [⿰0双]\n"
     ]
    },
    {
     "data": {
      "text/plain": [
       "[('聖', '圣', '𦔻'),\n",
       " ('勸', '劝', '雚'),\n",
       " ('難', '难', '𦰩'),\n",
       " ('艱', '艰', '𦰩'),\n",
       " ('對', '对', <⿱:业𦍌>),\n",
       " ('鷄', '鸡', '奚'),\n",
       " ('變', '变', '攵'),\n",
       " ('鳳', '凤', '𩾏'),\n",
       " ('歡', '欢', '雚'),\n",
       " ('漢', '汉', '𦰩'),\n",
       " ('僅', '仅', '堇'),\n",
       " ('敘', '叙', '攵'),\n",
       " ('戲', '戏', '䖒'),\n",
       " ('嘆', '叹', '𦰩'),\n",
       " ('馭', '驭', '又'),\n",
       " ('鄧', '邓', '登'),\n",
       " ('觀', '观', '雚'),\n",
       " ('權', '权', '雚')]"
      ]
     },
     "execution_count": 9,
     "metadata": {},
     "output_type": "execute_result"
    }
   ],
   "source": [
    "yo_trad_items = []\n",
    "flag_map = {\"難\": \"J\", \"艱\": \"J\", \"漢\": \"J\", \"嘆\": \"J\"}\n",
    "for hit_x in yo_hits_simp:\n",
    "    trad_char = tsvars.convert(hit_x[0])[0]\n",
    "    if hit_x[0] == \"鸡\":\n",
    "        trad_char = \"鷄\"\n",
    "    try:\n",
    "        hit_x[1][0].flag = flag_map.get(trad_char, \"\")     \n",
    "        trad_compo = ctree.select(trad_char, hit_x[1], use_flag=\"all\")\n",
    "        yo_trad_items.append((trad_char, hit_x[0], trad_compo))\n",
    "    except IndexError as ex:\n",
    "        print(str(ex), trad_char, hit_x[1])\n",
    "yo_trad_items"
   ]
  },
  {
   "cell_type": "code",
   "execution_count": 34,
   "metadata": {},
   "outputs": [
    {
     "data": {
      "text/plain": [
       "{<⿱:业𦍌>, '䖒', '又', '堇', '奚', '攵', '登', '雚', '𦔻', '𦰩', '𩾏'}"
      ]
     },
     "execution_count": 34,
     "metadata": {},
     "output_type": "execute_result"
    }
   ],
   "source": [
    "set([x[2] for x in yo_trad_items])"
   ]
  },
  {
   "cell_type": "code",
   "execution_count": 14,
   "metadata": {},
   "outputs": [],
   "source": [
    "from graphviz import Graph"
   ]
  },
  {
   "cell_type": "code",
   "execution_count": 35,
   "metadata": {},
   "outputs": [],
   "source": [
    "import pickle\n",
    "with open(\"../data/asbc5_characters.pkl\", \"rb\") as fin:\n",
    "    aschfreq = pickle.load(fin)"
   ]
  },
  {
   "cell_type": "code",
   "execution_count": 44,
   "metadata": {},
   "outputs": [
    {
     "data": {
      "text/plain": [
       "155.29115000000002"
      ]
     },
     "execution_count": 44,
     "metadata": {},
     "output_type": "execute_result"
    }
   ],
   "source": [
    "sum(aschfreq.values()) * 1e-5"
   ]
  },
  {
   "cell_type": "code",
   "execution_count": null,
   "metadata": {},
   "outputs": [],
   "source": []
  },
  {
   "cell_type": "code",
   "execution_count": 52,
   "metadata": {},
   "outputs": [],
   "source": [
    "import re\n",
    "char_list = [x for x in aschfreq.keys() if re.match(\"[一-龜]\", x)]\n",
    "sorted_chars = sorted(char_list, key=aschfreq.get, reverse=True)\n",
    "char_list = sorted_chars[:5000]"
   ]
  },
  {
   "cell_type": "code",
   "execution_count": 57,
   "metadata": {},
   "outputs": [],
   "source": [
    "from collections import defaultdict\n",
    "flag_map = {\"難\": \"J\", \"艱\": \"J\", \"漢\": \"J\", \"嘆\": \"J\"}\n",
    "nodes = defaultdict(set)\n",
    "edges = set()\n",
    "for item_x in yo_trad_items:\n",
    "    trad_char = item_x[0]\n",
    "    simp_char = item_x[1]\n",
    "    nodes[\"trad\"].add(trad_char)\n",
    "    nodes[\"simp\"].add(simp_char)\n",
    "    # edges.add((trad_char, simp_char))\n",
    "    trad_ortho = ctree.query(trad_char, \n",
    "                              max_depth=1, \n",
    "                              use_flag=flag_map.get(trad_char, \"\"))[0]\n",
    "    simp_ortho = ctree.query(simp_char,\n",
    "                              max_depth=1,\n",
    "                              use_flag=flag_map.get(simp_char, \"\"))[0]\n",
    "    for compo_i in [0, 1]:\n",
    "        if trad_ortho.idc != simp_ortho.idc:\n",
    "            continue\n",
    "        trad_compo = trad_ortho.get_component(compo_i)\n",
    "        simp_compo = simp_ortho.get_component(compo_i)        \n",
    "        nodes[\"compo\"].add(str(trad_compo))\n",
    "        nodes[\"compo\"].add(str(simp_compo))\n",
    "        edges.add((trad_char, str(trad_compo)))\n",
    "        edges.add((simp_char, str(simp_compo)))\n",
    "        if simp_compo == \"又\" and simp_compo != trad_compo:         \n",
    "            edges.add((str(trad_compo), str(simp_compo)))\n",
    "            \n",
    "            trad_neighs = [x[0] for x in \n",
    "                           ctree.find(trad_compo, max_depth=1, \n",
    "                                      use_flag=flag_map.get(simp_char, \"\"),\n",
    "                                      bmp_only=True)]\n",
    "            trad_neighs = [x for x in trad_neighs if x in char_list]\n",
    "            neighs = set(trad_neighs).difference([x[0] for x in yo_trad_items])            \n",
    "            simp_neighs = [tsvars.convert(x)[0] for x in neighs]\n",
    "            nodes[\"trad_neighs\"] |= neighs\n",
    "            nodes[\"simp_neighs\"] |= set(simp_neighs)\n",
    "            # edges |= set(((trad_char, neigh_x) for neigh_x in neighs))\n",
    "            edges |= set(((neigh_x, trad_compo) for neigh_x in neighs))\n",
    "            edges |= set(((neigh_t, neigh_s) for neigh_t, neigh_s in zip(neighs, simp_neighs)))\n",
    "        \n",
    "# ctree.query(yo_trad_items[0][0], max_depth=1)[0].leaf_components()"
   ]
  },
  {
   "cell_type": "code",
   "execution_count": 58,
   "metadata": {},
   "outputs": [
    {
     "data": {
      "text/plain": [
       "186"
      ]
     },
     "execution_count": 58,
     "metadata": {},
     "output_type": "execute_result"
    }
   ],
   "source": [
    "sum(len(x) for x in nodes.values())"
   ]
  },
  {
   "cell_type": "code",
   "execution_count": 59,
   "metadata": {},
   "outputs": [],
   "source": [
    "G = Graph(comment=\"Component Graph\", format=\"svg\", engine='dot')\n",
    "G.attr(rankdir=\"TB\")\n",
    "G.attr('node', fontname=\"HanaMinA\")\n",
    "for group in (\"trad\", \"trad_neighs\", \"compo\", \"simp\"):\n",
    "    sG = Graph(name=\"trad_chars\")\n",
    "    # sG.attr(rank=\"same\")\n",
    "    for n in nodes[group]:\n",
    "        sG.node(n, n)\n",
    "    G.subgraph(sG)\n",
    "    \n",
    "G.edges(edges)"
   ]
  },
  {
   "cell_type": "code",
   "execution_count": 60,
   "metadata": {},
   "outputs": [],
   "source": [
    "# print(G.source)"
   ]
  },
  {
   "cell_type": "code",
   "execution_count": 1,
   "metadata": {},
   "outputs": [
    {
     "ename": "NameError",
     "evalue": "name 'G' is not defined",
     "output_type": "error",
     "traceback": [
      "\u001b[0;31m---------------------------------------------------------------------------\u001b[0m",
      "\u001b[0;31mNameError\u001b[0m                                 Traceback (most recent call last)",
      "\u001b[0;32m<ipython-input-1-96e89ba817df>\u001b[0m in \u001b[0;36m<module>\u001b[0;34m\u001b[0m\n\u001b[0;32m----> 1\u001b[0;31m \u001b[0mG\u001b[0m\u001b[0;34m\u001b[0m\u001b[0;34m\u001b[0m\u001b[0m\n\u001b[0m",
      "\u001b[0;31mNameError\u001b[0m: name 'G' is not defined"
     ]
    }
   ],
   "source": [
    "G"
   ]
  },
  {
   "cell_type": "code",
   "execution_count": 137,
   "metadata": {},
   "outputs": [
    {
     "data": {
      "text/plain": [
       "['氵']"
      ]
     },
     "execution_count": 137,
     "metadata": {},
     "output_type": "execute_result"
    }
   ],
   "source": [
    "trad_ortho.get_component(0, use_flag=\"all\")"
   ]
  },
  {
   "cell_type": "code",
   "execution_count": null,
   "metadata": {},
   "outputs": [],
   "source": []
  }
 ],
 "metadata": {
  "kernelspec": {
   "display_name": "Python 3",
   "language": "python",
   "name": "python3"
  },
  "language_info": {
   "codemirror_mode": {
    "name": "ipython",
    "version": 3
   },
   "file_extension": ".py",
   "mimetype": "text/x-python",
   "name": "python",
   "nbconvert_exporter": "python",
   "pygments_lexer": "ipython3",
   "version": "3.7.4"
  }
 },
 "nbformat": 4,
 "nbformat_minor": 4
}
